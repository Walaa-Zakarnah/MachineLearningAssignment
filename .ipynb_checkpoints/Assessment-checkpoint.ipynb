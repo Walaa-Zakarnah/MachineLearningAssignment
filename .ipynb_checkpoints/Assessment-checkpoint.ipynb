{
 "cells": [
  {
   "cell_type": "markdown",
   "id": "62b594eb-cf35-46cd-89a8-e4def3e083ff",
   "metadata": {},
   "source": [
    "# Machine Learning Assignment - part1:\n",
    "## Dataset Assessment"
   ]
  },
  {
   "cell_type": "markdown",
   "id": "ddd40d4f-5d57-4028-9845-cb1577d1793f",
   "metadata": {},
   "source": [
    "## Introduction"
   ]
  },
  {
   "cell_type": "markdown",
   "id": "50db4a9e-2187-4633-a868-466e39f33ce4",
   "metadata": {},
   "source": [
    "Welcome to the preprocessing phase of the data analysis workflow. In this notebook, we will focus on the cleaning and assessment of the dataset to ensure its quality and reliability for downstream tasks such as modeling and visualization."
   ]
  },
  {
   "cell_type": "markdown",
   "id": "8f8a8204-1361-4146-a4c6-d76ef2172550",
   "metadata": {},
   "source": [
    "## Objectives\n",
    "The preprocessing stage is crucial in any machine learning project, as it directly impacts the accuracy and robustness of the final outcomes. This notebook will:\n",
    "\n",
    "1. Assess the dataset for potential issues such as missing values, duplicates, and inconsistencies.\n",
    "2. Clean the data to address identified issues, including handling null values, standardizing formats, and correcting errors.\n",
    "3. Document all steps taken to ensure transparency and reproducibility."
   ]
  },
  {
   "cell_type": "markdown",
   "id": "de0b163e-dd17-4266-8d56-905f6e443294",
   "metadata": {},
   "source": [
    "__Importing Libraries:__"
   ]
  },
  {
   "cell_type": "code",
   "execution_count": 1,
   "id": "20a7cf3b-13b8-485f-8056-72e21e92f8cd",
   "metadata": {},
   "outputs": [],
   "source": [
    "import pandas as pd"
   ]
  },
  {
   "cell_type": "code",
   "execution_count": 8,
   "id": "f8248db9-9e8c-4c7c-b027-9737065d8685",
   "metadata": {},
   "outputs": [
    {
     "name": "stdout",
     "output_type": "stream",
     "text": [
      "Defaulting to user installation because normal site-packages is not writeableNote: you may need to restart the kernel to use updated packages.\n",
      "\n",
      "Collecting openpyxl\n",
      "  Downloading openpyxl-3.1.5-py2.py3-none-any.whl.metadata (2.5 kB)\n",
      "Collecting et-xmlfile (from openpyxl)\n",
      "  Downloading et_xmlfile-2.0.0-py3-none-any.whl.metadata (2.7 kB)\n",
      "Downloading openpyxl-3.1.5-py2.py3-none-any.whl (250 kB)\n",
      "Downloading et_xmlfile-2.0.0-py3-none-any.whl (18 kB)\n",
      "Installing collected packages: et-xmlfile, openpyxl\n",
      "Successfully installed et-xmlfile-2.0.0 openpyxl-3.1.5\n"
     ]
    }
   ],
   "source": [
    "pip install openpyxl"
   ]
  },
  {
   "cell_type": "markdown",
   "id": "dd9cc211-67f7-4d99-bda3-37c7a012e169",
   "metadata": {},
   "source": [
    "### 1. Gathering data:"
   ]
  },
  {
   "cell_type": "markdown",
   "id": "55afb16b-7eb1-498a-bceb-752de226f02c",
   "metadata": {},
   "source": [
    "__Dataset:__\n",
    "\n",
    "TG_T_CashValues_Rel.\n",
    "\n",
    "__Type:__ __Excel__ file."
   ]
  },
  {
   "cell_type": "code",
   "execution_count": 9,
   "id": "7912079a-7a83-45d4-8078-22405e9b5c74",
   "metadata": {},
   "outputs": [],
   "source": [
    "df= pd.read_excel('TG_T_CashValues_Rel.xlsx')"
   ]
  },
  {
   "cell_type": "markdown",
   "id": "01df3672-db94-483e-99f8-926283f17d6c",
   "metadata": {},
   "source": [
    "__Getting to know the dataframe:__\n",
    "\n",
    "The dataset used in this analysis includes the following columns:"
   ]
  },
  {
   "cell_type": "markdown",
   "id": "696c037a-45bb-492e-9a31-b8ffc18e72be",
   "metadata": {},
   "source": [
    "<table border=\"1\" style=\"border-collapse: collapse; width: 100%;\">\n",
    "  <thead>\n",
    "    <tr>\n",
    "      <th>Column Name</th>\n",
    "      <th>Description</th>\n",
    "    </tr>\n",
    "  </thead>\n",
    "  <tbody>\n",
    "    <tr>\n",
    "      <td>Gender</td>\n",
    "      <td>The gender of the individual (e.g., Male, Female).</td>\n",
    "    </tr>\n",
    "    <tr>\n",
    "      <td>Age</td>\n",
    "      <td>The age of the individual (in years).</td>\n",
    "    </tr>\n",
    "    <tr>\n",
    "      <td>Dur</td>\n",
    "      <td>Duration or time-related feature (context-dependent).</td>\n",
    "    </tr>\n",
    "    <tr>\n",
    "      <td>PPV</td>\n",
    "      <td>PPV value (continuous variable, the target for prediction).</td>\n",
    "    </tr>\n",
    "  </tbody>\n",
    "</table>\n"
   ]
  },
  {
   "cell_type": "markdown",
   "id": "bcf84497-aea6-4655-9f1a-a08322803a13",
   "metadata": {},
   "source": [
    "__To see the shape of this dataframe:__"
   ]
  },
  {
   "cell_type": "code",
   "execution_count": 21,
   "id": "185df071-671d-4888-9aa1-f93e87a72ed9",
   "metadata": {},
   "outputs": [
    {
     "name": "stdout",
     "output_type": "stream",
     "text": [
      "This dataframe has:  5270 records 4 columns\n"
     ]
    }
   ],
   "source": [
    "print(\"This dataframe has: \",df.shape[0], \"records\", df.shape[1], \"columns\")"
   ]
  },
  {
   "cell_type": "markdown",
   "id": "073634a6-f721-49b3-aa20-1301bf07c9ff",
   "metadata": {},
   "source": [
    "### 2. Data Assessment:\n",
    "\n",
    "Assessing the data according to data quality and tidiness metrics using the report below"
   ]
  },
  {
   "cell_type": "markdown",
   "id": "abd2bdd6-9c35-41f2-940a-6032cc641b82",
   "metadata": {},
   "source": [
    "### a. Completeness."
   ]
  },
  {
   "cell_type": "markdown",
   "id": "5a372d57-8481-4f74-9579-0136dd51382f",
   "metadata": {},
   "source": [
    "For visual Assessent:"
   ]
  },
  {
   "cell_type": "code",
   "execution_count": 17,
   "id": "2858f706-1b58-484d-aa2a-822c714c8f80",
   "metadata": {
    "scrolled": true
   },
   "outputs": [
    {
     "data": {
      "text/html": [
       "<div>\n",
       "<style scoped>\n",
       "    .dataframe tbody tr th:only-of-type {\n",
       "        vertical-align: middle;\n",
       "    }\n",
       "\n",
       "    .dataframe tbody tr th {\n",
       "        vertical-align: top;\n",
       "    }\n",
       "\n",
       "    .dataframe thead th {\n",
       "        text-align: right;\n",
       "    }\n",
       "</style>\n",
       "<table border=\"1\" class=\"dataframe\">\n",
       "  <thead>\n",
       "    <tr style=\"text-align: right;\">\n",
       "      <th></th>\n",
       "      <th>Gender</th>\n",
       "      <th>Age</th>\n",
       "      <th>Dur</th>\n",
       "      <th>PPV</th>\n",
       "    </tr>\n",
       "  </thead>\n",
       "  <tbody>\n",
       "    <tr>\n",
       "      <th>0</th>\n",
       "      <td>Male</td>\n",
       "      <td>0</td>\n",
       "      <td>20</td>\n",
       "      <td>15.198437</td>\n",
       "    </tr>\n",
       "    <tr>\n",
       "      <th>1</th>\n",
       "      <td>Male</td>\n",
       "      <td>0</td>\n",
       "      <td>21</td>\n",
       "      <td>15.741015</td>\n",
       "    </tr>\n",
       "    <tr>\n",
       "      <th>2</th>\n",
       "      <td>Male</td>\n",
       "      <td>0</td>\n",
       "      <td>22</td>\n",
       "      <td>16.267189</td>\n",
       "    </tr>\n",
       "    <tr>\n",
       "      <th>3</th>\n",
       "      <td>Male</td>\n",
       "      <td>0</td>\n",
       "      <td>23</td>\n",
       "      <td>16.777448</td>\n",
       "    </tr>\n",
       "    <tr>\n",
       "      <th>4</th>\n",
       "      <td>Male</td>\n",
       "      <td>0</td>\n",
       "      <td>24</td>\n",
       "      <td>17.272269</td>\n",
       "    </tr>\n",
       "  </tbody>\n",
       "</table>\n",
       "</div>"
      ],
      "text/plain": [
       "  Gender  Age  Dur        PPV\n",
       "0   Male    0   20  15.198437\n",
       "1   Male    0   21  15.741015\n",
       "2   Male    0   22  16.267189\n",
       "3   Male    0   23  16.777448\n",
       "4   Male    0   24  17.272269"
      ]
     },
     "execution_count": 17,
     "metadata": {},
     "output_type": "execute_result"
    }
   ],
   "source": [
    "df.head()"
   ]
  },
  {
   "cell_type": "code",
   "execution_count": 18,
   "id": "6e4cfc2e-4e73-4ae7-a239-872ac6ac8e63",
   "metadata": {},
   "outputs": [
    {
     "data": {
      "text/html": [
       "<div>\n",
       "<style scoped>\n",
       "    .dataframe tbody tr th:only-of-type {\n",
       "        vertical-align: middle;\n",
       "    }\n",
       "\n",
       "    .dataframe tbody tr th {\n",
       "        vertical-align: top;\n",
       "    }\n",
       "\n",
       "    .dataframe thead th {\n",
       "        text-align: right;\n",
       "    }\n",
       "</style>\n",
       "<table border=\"1\" class=\"dataframe\">\n",
       "  <thead>\n",
       "    <tr style=\"text-align: right;\">\n",
       "      <th></th>\n",
       "      <th>Gender</th>\n",
       "      <th>Age</th>\n",
       "      <th>Dur</th>\n",
       "      <th>PPV</th>\n",
       "    </tr>\n",
       "  </thead>\n",
       "  <tbody>\n",
       "    <tr>\n",
       "      <th>5265</th>\n",
       "      <td>Female</td>\n",
       "      <td>78</td>\n",
       "      <td>2</td>\n",
       "      <td>1.925421</td>\n",
       "    </tr>\n",
       "    <tr>\n",
       "      <th>5266</th>\n",
       "      <td>Female</td>\n",
       "      <td>78</td>\n",
       "      <td>3</td>\n",
       "      <td>2.777638</td>\n",
       "    </tr>\n",
       "    <tr>\n",
       "      <th>5267</th>\n",
       "      <td>Female</td>\n",
       "      <td>79</td>\n",
       "      <td>1</td>\n",
       "      <td>1.000000</td>\n",
       "    </tr>\n",
       "    <tr>\n",
       "      <th>5268</th>\n",
       "      <td>Female</td>\n",
       "      <td>79</td>\n",
       "      <td>2</td>\n",
       "      <td>1.920897</td>\n",
       "    </tr>\n",
       "    <tr>\n",
       "      <th>5269</th>\n",
       "      <td>Female</td>\n",
       "      <td>80</td>\n",
       "      <td>1</td>\n",
       "      <td>1.000000</td>\n",
       "    </tr>\n",
       "  </tbody>\n",
       "</table>\n",
       "</div>"
      ],
      "text/plain": [
       "      Gender  Age  Dur       PPV\n",
       "5265  Female   78    2  1.925421\n",
       "5266  Female   78    3  2.777638\n",
       "5267  Female   79    1  1.000000\n",
       "5268  Female   79    2  1.920897\n",
       "5269  Female   80    1  1.000000"
      ]
     },
     "execution_count": 18,
     "metadata": {},
     "output_type": "execute_result"
    }
   ],
   "source": [
    "df.tail()"
   ]
  },
  {
   "cell_type": "markdown",
   "id": "6fe2ff77-3f7b-4fee-a17b-720aa03cfec0",
   "metadata": {},
   "source": [
    "No null values appeared in both checks, let's try to see a random sample."
   ]
  },
  {
   "cell_type": "code",
   "execution_count": 20,
   "id": "3add58be-0e35-407d-a7a6-c9b92864e49b",
   "metadata": {},
   "outputs": [
    {
     "data": {
      "text/html": [
       "<div>\n",
       "<style scoped>\n",
       "    .dataframe tbody tr th:only-of-type {\n",
       "        vertical-align: middle;\n",
       "    }\n",
       "\n",
       "    .dataframe tbody tr th {\n",
       "        vertical-align: top;\n",
       "    }\n",
       "\n",
       "    .dataframe thead th {\n",
       "        text-align: right;\n",
       "    }\n",
       "</style>\n",
       "<table border=\"1\" class=\"dataframe\">\n",
       "  <thead>\n",
       "    <tr style=\"text-align: right;\">\n",
       "      <th></th>\n",
       "      <th>Gender</th>\n",
       "      <th>Age</th>\n",
       "      <th>Dur</th>\n",
       "      <th>PPV</th>\n",
       "    </tr>\n",
       "  </thead>\n",
       "  <tbody>\n",
       "    <tr>\n",
       "      <th>3686</th>\n",
       "      <td>Female</td>\n",
       "      <td>24</td>\n",
       "      <td>42</td>\n",
       "      <td>23.751965</td>\n",
       "    </tr>\n",
       "    <tr>\n",
       "      <th>8</th>\n",
       "      <td>Male</td>\n",
       "      <td>0</td>\n",
       "      <td>28</td>\n",
       "      <td>19.106189</td>\n",
       "    </tr>\n",
       "    <tr>\n",
       "      <th>1536</th>\n",
       "      <td>Male</td>\n",
       "      <td>34</td>\n",
       "      <td>30</td>\n",
       "      <td>19.302021</td>\n",
       "    </tr>\n",
       "    <tr>\n",
       "      <th>3538</th>\n",
       "      <td>Female</td>\n",
       "      <td>21</td>\n",
       "      <td>44</td>\n",
       "      <td>24.339920</td>\n",
       "    </tr>\n",
       "    <tr>\n",
       "      <th>5235</th>\n",
       "      <td>Female</td>\n",
       "      <td>73</td>\n",
       "      <td>2</td>\n",
       "      <td>1.942791</td>\n",
       "    </tr>\n",
       "  </tbody>\n",
       "</table>\n",
       "</div>"
      ],
      "text/plain": [
       "      Gender  Age  Dur        PPV\n",
       "3686  Female   24   42  23.751965\n",
       "8       Male    0   28  19.106189\n",
       "1536    Male   34   30  19.302021\n",
       "3538  Female   21   44  24.339920\n",
       "5235  Female   73    2   1.942791"
      ]
     },
     "execution_count": 20,
     "metadata": {},
     "output_type": "execute_result"
    }
   ],
   "source": [
    "df.sample(5, random_state=42)"
   ]
  },
  {
   "cell_type": "markdown",
   "id": "097cc4c3-6142-4b18-91cd-5baa02fea7db",
   "metadata": {},
   "source": [
    "#### Inspecting the dataframe programmitically:"
   ]
  },
  {
   "cell_type": "code",
   "execution_count": 22,
   "id": "9856081e-3393-4512-a812-903b759120a1",
   "metadata": {},
   "outputs": [
    {
     "data": {
      "text/plain": [
       "Gender    0\n",
       "Age       0\n",
       "Dur       0\n",
       "PPV       0\n",
       "dtype: int64"
      ]
     },
     "execution_count": 22,
     "metadata": {},
     "output_type": "execute_result"
    }
   ],
   "source": [
    "df.isnull().sum()"
   ]
  },
  {
   "cell_type": "markdown",
   "id": "2bb86715-bf9a-44e8-acfb-c2f9b622afb1",
   "metadata": {},
   "source": [
    "there are no N/A values int his Dataframe."
   ]
  },
  {
   "cell_type": "markdown",
   "id": "c6cd0438-edce-42e4-8643-9f695dbb9ac9",
   "metadata": {},
   "source": [
    "### Validity:\n",
    "__Misrepresented__ null values and __erroneous data types__."
   ]
  },
  {
   "cell_type": "code",
   "execution_count": 23,
   "id": "38258c69-0126-4203-9fdb-2376325ad39c",
   "metadata": {},
   "outputs": [
    {
     "data": {
      "text/plain": [
       "Gender     object\n",
       "Age         int64\n",
       "Dur         int64\n",
       "PPV       float64\n",
       "dtype: object"
      ]
     },
     "execution_count": 23,
     "metadata": {},
     "output_type": "execute_result"
    }
   ],
   "source": [
    "df.dtypes"
   ]
  },
  {
   "cell_type": "code",
   "execution_count": 25,
   "id": "7b77f551-b8b7-4f09-b0f5-8187c6897160",
   "metadata": {},
   "outputs": [
    {
     "data": {
      "text/html": [
       "<div>\n",
       "<style scoped>\n",
       "    .dataframe tbody tr th:only-of-type {\n",
       "        vertical-align: middle;\n",
       "    }\n",
       "\n",
       "    .dataframe tbody tr th {\n",
       "        vertical-align: top;\n",
       "    }\n",
       "\n",
       "    .dataframe thead th {\n",
       "        text-align: right;\n",
       "    }\n",
       "</style>\n",
       "<table border=\"1\" class=\"dataframe\">\n",
       "  <thead>\n",
       "    <tr style=\"text-align: right;\">\n",
       "      <th></th>\n",
       "      <th>Age</th>\n",
       "      <th>Dur</th>\n",
       "      <th>PPV</th>\n",
       "    </tr>\n",
       "  </thead>\n",
       "  <tbody>\n",
       "    <tr>\n",
       "      <th>count</th>\n",
       "      <td>5270.000000</td>\n",
       "      <td>5270.000000</td>\n",
       "      <td>5270.000000</td>\n",
       "    </tr>\n",
       "    <tr>\n",
       "      <th>mean</th>\n",
       "      <td>31.294118</td>\n",
       "      <td>22.882353</td>\n",
       "      <td>14.858158</td>\n",
       "    </tr>\n",
       "    <tr>\n",
       "      <th>std</th>\n",
       "      <td>18.671548</td>\n",
       "      <td>13.793388</td>\n",
       "      <td>7.025862</td>\n",
       "    </tr>\n",
       "    <tr>\n",
       "      <th>min</th>\n",
       "      <td>0.000000</td>\n",
       "      <td>1.000000</td>\n",
       "      <td>1.000000</td>\n",
       "    </tr>\n",
       "    <tr>\n",
       "      <th>25%</th>\n",
       "      <td>16.000000</td>\n",
       "      <td>11.000000</td>\n",
       "      <td>9.374980</td>\n",
       "    </tr>\n",
       "    <tr>\n",
       "      <th>50%</th>\n",
       "      <td>30.000000</td>\n",
       "      <td>22.000000</td>\n",
       "      <td>15.703883</td>\n",
       "    </tr>\n",
       "    <tr>\n",
       "      <th>75%</th>\n",
       "      <td>45.000000</td>\n",
       "      <td>34.000000</td>\n",
       "      <td>20.953996</td>\n",
       "    </tr>\n",
       "    <tr>\n",
       "      <th>max</th>\n",
       "      <td>80.000000</td>\n",
       "      <td>50.000000</td>\n",
       "      <td>26.024118</td>\n",
       "    </tr>\n",
       "  </tbody>\n",
       "</table>\n",
       "</div>"
      ],
      "text/plain": [
       "               Age          Dur          PPV\n",
       "count  5270.000000  5270.000000  5270.000000\n",
       "mean     31.294118    22.882353    14.858158\n",
       "std      18.671548    13.793388     7.025862\n",
       "min       0.000000     1.000000     1.000000\n",
       "25%      16.000000    11.000000     9.374980\n",
       "50%      30.000000    22.000000    15.703883\n",
       "75%      45.000000    34.000000    20.953996\n",
       "max      80.000000    50.000000    26.024118"
      ]
     },
     "execution_count": 25,
     "metadata": {},
     "output_type": "execute_result"
    }
   ],
   "source": [
    "df.describe()"
   ]
  },
  {
   "cell_type": "markdown",
   "id": "1277f8f0-d254-499c-931b-e38a0d1c86aa",
   "metadata": {},
   "source": [
    "Since __Age__ min: 0 and max: 80, it can be enhanced into __int16__,\n",
    "same goes for __duration__.\n",
    "\n",
    "as for __PPV__ its float64 which will be converted to __float16__.\n",
    "\n",
    "for __Gender__ which can be converted into __categorical__."
   ]
  },
  {
   "cell_type": "code",
   "execution_count": 30,
   "id": "99746d0d-0d47-4258-8b72-49476c7ab385",
   "metadata": {},
   "outputs": [
    {
     "name": "stdout",
     "output_type": "stream",
     "text": [
      "<class 'pandas.core.frame.DataFrame'>\n",
      "RangeIndex: 5270 entries, 0 to 5269\n",
      "Data columns (total 4 columns):\n",
      " #   Column  Non-Null Count  Dtype  \n",
      "---  ------  --------------  -----  \n",
      " 0   Gender  5270 non-null   object \n",
      " 1   Age     5270 non-null   int64  \n",
      " 2   Dur     5270 non-null   int64  \n",
      " 3   PPV     5270 non-null   float64\n",
      "dtypes: float64(1), int64(2), object(1)\n",
      "memory usage: 164.8+ KB\n"
     ]
    }
   ],
   "source": [
    "df.info()"
   ]
  },
  {
   "cell_type": "markdown",
   "id": "f764dd09-b564-4b78-be3e-4090734d903d",
   "metadata": {},
   "source": [
    "__Memory usage__ is: __164.8+ KB__"
   ]
  },
  {
   "cell_type": "markdown",
   "id": "d7003805-8032-47f3-89e9-72c73885b314",
   "metadata": {},
   "source": [
    "### C. Uniqueness"
   ]
  },
  {
   "cell_type": "code",
   "execution_count": 27,
   "id": "206ea36f-666b-46cb-9636-c6299d10e0a0",
   "metadata": {},
   "outputs": [
    {
     "name": "stdout",
     "output_type": "stream",
     "text": [
      "Empty DataFrame\n",
      "Columns: [Gender, Age, Dur, PPV]\n",
      "Index: []\n"
     ]
    }
   ],
   "source": [
    "duplicates = df[df.duplicated()]\n",
    "print(duplicates)"
   ]
  },
  {
   "cell_type": "code",
   "execution_count": 28,
   "id": "93a4d846-a9b6-44e8-af16-e345c0230ed9",
   "metadata": {},
   "outputs": [
    {
     "name": "stdout",
     "output_type": "stream",
     "text": [
      "Empty DataFrame\n",
      "Columns: [Gender, Age, Dur, PPV]\n",
      "Index: []\n"
     ]
    }
   ],
   "source": [
    "specific_duplicates = df[df.duplicated(subset=['Gender', 'Age', 'Dur'])]\n",
    "print(specific_duplicates)\n"
   ]
  },
  {
   "cell_type": "markdown",
   "id": "473e1913-8b3b-4d8f-a92f-22afd0878adb",
   "metadata": {},
   "source": [
    "There are no duplicates in this dataframe."
   ]
  },
  {
   "cell_type": "markdown",
   "id": "062dd22d-d5af-440b-a92e-fa4c1c43ea0d",
   "metadata": {},
   "source": [
    "### d. Consistency"
   ]
  },
  {
   "cell_type": "code",
   "execution_count": 29,
   "id": "4fcde87b-5ef6-4b40-8ac8-5b56d11f0a4e",
   "metadata": {},
   "outputs": [
    {
     "data": {
      "text/plain": [
       "Gender\n",
       "Male      2635\n",
       "Female    2635\n",
       "Name: count, dtype: int64"
      ]
     },
     "execution_count": 29,
     "metadata": {},
     "output_type": "execute_result"
    }
   ],
   "source": [
    "df.Gender.value_counts()"
   ]
  },
  {
   "cell_type": "markdown",
   "id": "6448e931-3ee4-4fdc-9457-f22b6ffb3b33",
   "metadata": {},
   "source": [
    "Gender column is consistent."
   ]
  },
  {
   "cell_type": "markdown",
   "id": "5c1e609e-7ad5-40ed-ac10-8855edae4aea",
   "metadata": {},
   "source": [
    "## 3. Data Cleaning"
   ]
  },
  {
   "cell_type": "markdown",
   "id": "693d0254-0fe9-44b5-93e1-145a9a4db06b",
   "metadata": {},
   "source": [
    "This dataframe is clean, no need to perform any cleaning. The only change is for memory usage."
   ]
  },
  {
   "cell_type": "code",
   "execution_count": 34,
   "id": "c81af098-d674-4a06-b0df-f790078eaef9",
   "metadata": {},
   "outputs": [],
   "source": [
    "cleaned_df=df.copy()"
   ]
  },
  {
   "cell_type": "code",
   "execution_count": 35,
   "id": "8ef3808c-e2df-490e-a1c5-20ab42d78bd4",
   "metadata": {},
   "outputs": [],
   "source": [
    "cleaned_df['Age'] = df['Age'].astype('int16')\n",
    "cleaned_df['Dur'] = df['Dur'].astype('int16')\n",
    "cleaned_df['PPV'] = df['PPV'].astype('float16')\n",
    "cleaned_df['Gender'] = df['Gender'].astype('category')"
   ]
  },
  {
   "cell_type": "markdown",
   "id": "97166f8a-a611-49ef-afcb-e54b481e6ec9",
   "metadata": {},
   "source": [
    " __Verify the changes in data types__"
   ]
  },
  {
   "cell_type": "code",
   "execution_count": 36,
   "id": "d9e16f0c-d835-47b0-8b8c-b2992273aefb",
   "metadata": {},
   "outputs": [
    {
     "data": {
      "text/plain": [
       "Gender    category\n",
       "Age          int16\n",
       "Dur          int16\n",
       "PPV        float16\n",
       "dtype: object"
      ]
     },
     "execution_count": 36,
     "metadata": {},
     "output_type": "execute_result"
    }
   ],
   "source": [
    "cleaned_df.dtypes"
   ]
  },
  {
   "cell_type": "code",
   "execution_count": 37,
   "id": "35f89c75-2654-4dee-b656-30f243eb08db",
   "metadata": {},
   "outputs": [
    {
     "name": "stdout",
     "output_type": "stream",
     "text": [
      "<class 'pandas.core.frame.DataFrame'>\n",
      "RangeIndex: 5270 entries, 0 to 5269\n",
      "Data columns (total 4 columns):\n",
      " #   Column  Non-Null Count  Dtype   \n",
      "---  ------  --------------  -----   \n",
      " 0   Gender  5270 non-null   category\n",
      " 1   Age     5270 non-null   int16   \n",
      " 2   Dur     5270 non-null   int16   \n",
      " 3   PPV     5270 non-null   float16 \n",
      "dtypes: category(1), float16(1), int16(2)\n",
      "memory usage: 36.3 KB\n"
     ]
    }
   ],
   "source": [
    "cleaned_df.info()"
   ]
  },
  {
   "cell_type": "markdown",
   "id": "5df97d10-320f-41bb-9d9d-3a3dc7eac364",
   "metadata": {},
   "source": [
    "we notice that the memory usage dropped down from __164.8+ Kb__ to __36.3 KB__."
   ]
  },
  {
   "cell_type": "code",
   "execution_count": 38,
   "id": "12036e8f-fe56-41d7-ad2a-b6bc2217ee45",
   "metadata": {},
   "outputs": [],
   "source": [
    "# Save the DataFrames to CSV files\n",
    "cleaned_df.to_csv('cleaned_df.csv', index=False)"
   ]
  }
 ],
 "metadata": {
  "kernelspec": {
   "display_name": "Python 3 (ipykernel)",
   "language": "python",
   "name": "python3"
  },
  "language_info": {
   "codemirror_mode": {
    "name": "ipython",
    "version": 3
   },
   "file_extension": ".py",
   "mimetype": "text/x-python",
   "name": "python",
   "nbconvert_exporter": "python",
   "pygments_lexer": "ipython3",
   "version": "3.13.0"
  }
 },
 "nbformat": 4,
 "nbformat_minor": 5
}
