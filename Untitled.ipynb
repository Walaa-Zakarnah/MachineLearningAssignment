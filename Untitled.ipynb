{
 "cells": [
  {
   "cell_type": "markdown",
   "id": "c96895a6-8f37-49a3-a551-4d0030b8c2c0",
   "metadata": {},
   "source": [
    "## Building the model."
   ]
  },
  {
   "cell_type": "code",
   "execution_count": 1,
   "id": "3986b5e9-cf71-468a-bb9e-03619f99ee55",
   "metadata": {},
   "outputs": [],
   "source": [
    "import pandas as pd\n",
    "# from pycaret.regression import *"
   ]
  },
  {
   "cell_type": "code",
   "execution_count": 2,
   "id": "f32d134c-c798-4b12-b6e4-98aca8f40419",
   "metadata": {},
   "outputs": [],
   "source": [
    "df=pd.read_csv('cleaned_df.csv')"
   ]
  },
  {
   "cell_type": "code",
   "execution_count": 3,
   "id": "47338931-c6ac-4aa7-8e14-2171ef5a8026",
   "metadata": {},
   "outputs": [
    {
     "data": {
      "text/html": [
       "<div>\n",
       "<style scoped>\n",
       "    .dataframe tbody tr th:only-of-type {\n",
       "        vertical-align: middle;\n",
       "    }\n",
       "\n",
       "    .dataframe tbody tr th {\n",
       "        vertical-align: top;\n",
       "    }\n",
       "\n",
       "    .dataframe thead th {\n",
       "        text-align: right;\n",
       "    }\n",
       "</style>\n",
       "<table border=\"1\" class=\"dataframe\">\n",
       "  <thead>\n",
       "    <tr style=\"text-align: right;\">\n",
       "      <th></th>\n",
       "      <th>Gender</th>\n",
       "      <th>Age</th>\n",
       "      <th>Dur</th>\n",
       "      <th>PPV</th>\n",
       "    </tr>\n",
       "  </thead>\n",
       "  <tbody>\n",
       "    <tr>\n",
       "      <th>0</th>\n",
       "      <td>0</td>\n",
       "      <td>0</td>\n",
       "      <td>20</td>\n",
       "      <td>15.195</td>\n",
       "    </tr>\n",
       "    <tr>\n",
       "      <th>1</th>\n",
       "      <td>0</td>\n",
       "      <td>0</td>\n",
       "      <td>21</td>\n",
       "      <td>15.740</td>\n",
       "    </tr>\n",
       "    <tr>\n",
       "      <th>2</th>\n",
       "      <td>0</td>\n",
       "      <td>0</td>\n",
       "      <td>22</td>\n",
       "      <td>16.270</td>\n",
       "    </tr>\n",
       "    <tr>\n",
       "      <th>3</th>\n",
       "      <td>0</td>\n",
       "      <td>0</td>\n",
       "      <td>23</td>\n",
       "      <td>16.780</td>\n",
       "    </tr>\n",
       "    <tr>\n",
       "      <th>4</th>\n",
       "      <td>0</td>\n",
       "      <td>0</td>\n",
       "      <td>24</td>\n",
       "      <td>17.270</td>\n",
       "    </tr>\n",
       "  </tbody>\n",
       "</table>\n",
       "</div>"
      ],
      "text/plain": [
       "   Gender  Age  Dur     PPV\n",
       "0       0    0   20  15.195\n",
       "1       0    0   21  15.740\n",
       "2       0    0   22  16.270\n",
       "3       0    0   23  16.780\n",
       "4       0    0   24  17.270"
      ]
     },
     "execution_count": 3,
     "metadata": {},
     "output_type": "execute_result"
    }
   ],
   "source": [
    "df.head()"
   ]
  },
  {
   "cell_type": "code",
   "execution_count": 4,
   "id": "11ab10b5-fbd6-4f70-b576-a83efaffec36",
   "metadata": {},
   "outputs": [
    {
     "name": "stdout",
     "output_type": "stream",
     "text": [
      "Defaulting to user installation because normal site-packages is not writeable\n",
      "Collecting pycaret\n",
      "  Using cached pycaret-3.3.2-py3-none-any.whl.metadata (17 kB)\n",
      "Requirement already satisfied: ipython>=5.5.0 in c:\\users\\zein\\appdata\\roaming\\python\\python313\\site-packages (from pycaret) (8.29.0)\n",
      "Collecting ipywidgets>=7.6.5 (from pycaret)\n",
      "  Using cached ipywidgets-8.1.5-py3-none-any.whl.metadata (2.3 kB)\n",
      "Collecting tqdm>=4.62.0 (from pycaret)\n",
      "  Using cached tqdm-4.67.1-py3-none-any.whl.metadata (57 kB)\n",
      "Collecting numpy<1.27,>=1.21 (from pycaret)\n",
      "  Using cached numpy-1.26.4-cp313-cp313-win_amd64.whl\n",
      "Collecting pandas<2.2.0 (from pycaret)\n",
      "  Using cached pandas-2.1.4.tar.gz (4.3 MB)\n",
      "  Installing build dependencies: started\n",
      "  Installing build dependencies: finished with status 'done'\n",
      "  Getting requirements to build wheel: started\n",
      "  Getting requirements to build wheel: finished with status 'done'\n",
      "  Installing backend dependencies: started\n",
      "  Installing backend dependencies: finished with status 'done'\n",
      "  Preparing metadata (pyproject.toml): started\n",
      "  Preparing metadata (pyproject.toml): finished with status 'error'\n",
      "Note: you may need to restart the kernel to use updated packages.\n"
     ]
    },
    {
     "name": "stderr",
     "output_type": "stream",
     "text": [
      "  error: subprocess-exited-with-error\n",
      "  \n",
      "  Preparing metadata (pyproject.toml) did not run successfully.\n",
      "  exit code: 1\n",
      "  \n",
      "  [59 lines of output]\n",
      "  + meson setup C:\\Users\\Zein\\AppData\\Local\\Temp\\pip-install-u_q1zrmz\\pandas_9afd972f0202424cb68c78349a32d138 C:\\Users\\Zein\\AppData\\Local\\Temp\\pip-install-u_q1zrmz\\pandas_9afd972f0202424cb68c78349a32d138\\.mesonpy-p9oh4pzc\\build -Dbuildtype=release -Db_ndebug=if-release -Db_vscrt=md --vsenv --native-file=C:\\Users\\Zein\\AppData\\Local\\Temp\\pip-install-u_q1zrmz\\pandas_9afd972f0202424cb68c78349a32d138\\.mesonpy-p9oh4pzc\\build\\meson-python-native-file.ini\n",
      "  The Meson build system\n",
      "  Version: 1.2.1\n",
      "  Source dir: C:\\Users\\Zein\\AppData\\Local\\Temp\\pip-install-u_q1zrmz\\pandas_9afd972f0202424cb68c78349a32d138\n",
      "  Build dir: C:\\Users\\Zein\\AppData\\Local\\Temp\\pip-install-u_q1zrmz\\pandas_9afd972f0202424cb68c78349a32d138\\.mesonpy-p9oh4pzc\\build\n",
      "  Build type: native build\n",
      "  Project name: pandas\n",
      "  Project version: 2.1.4\n",
      "  Activating VS 17.10.5\n",
      "  C compiler for the host machine: cl (msvc 19.40.33813 \"Microsoft (R) C/C++ Optimizing Compiler Version 19.40.33813 for x64\")\n",
      "  C linker for the host machine: link link 14.40.33813.0\n",
      "  C++ compiler for the host machine: cl (msvc 19.40.33813 \"Microsoft (R) C/C++ Optimizing Compiler Version 19.40.33813 for x64\")\n",
      "  C++ linker for the host machine: link link 14.40.33813.0\n",
      "  Cython compiler for the host machine: cython (cython 0.29.37)\n",
      "  Host machine cpu family: x86_64\n",
      "  Host machine cpu: x86_64\n",
      "  Program python found: YES (C:\\Program Files\\Python313\\python.exe)\n",
      "  Run-time dependency python found: YES 3.13\n",
      "  Build targets in project: 53\n",
      "  \n",
      "  pandas 2.1.4\n",
      "  \n",
      "    User defined options\n",
      "      Native files: C:\\Users\\Zein\\AppData\\Local\\Temp\\pip-install-u_q1zrmz\\pandas_9afd972f0202424cb68c78349a32d138\\.mesonpy-p9oh4pzc\\build\\meson-python-native-file.ini\n",
      "      buildtype   : release\n",
      "      vsenv       : True\n",
      "      b_ndebug    : if-release\n",
      "      b_vscrt     : md\n",
      "  \n",
      "  Found ninja.EXE-1.11.1.git.kitware.jobserver-1 at C:\\Users\\Zein\\AppData\\Local\\Temp\\pip-build-env-uk27u9nm\\normal\\Scripts\\ninja.EXE\n",
      "  \n",
      "  Visual Studio environment is needed to run Ninja. It is recommended to use Meson wrapper:\n",
      "  C:\\Users\\Zein\\AppData\\Local\\Temp\\pip-build-env-uk27u9nm\\overlay\\Scripts\\meson compile -C .\n",
      "  + meson compile\n",
      "  [1/151] Generating pandas/_libs/algos_common_helper_pxi with a custom command\n",
      "  [2/151] Generating pandas/_libs/algos_take_helper_pxi with a custom command\n",
      "  [3/151] Generating pandas/_libs/khash_primitive_helper_pxi with a custom command\n",
      "  [4/151] Generating pandas/_libs/hashtable_func_helper_pxi with a custom command\n",
      "  [5/151] Generating pandas/_libs/hashtable_class_helper_pxi with a custom command\n",
      "  [6/151] Generating pandas/_libs/index_class_helper_pxi with a custom command\n",
      "  [7/151] Generating pandas/_libs/intervaltree_helper_pxi with a custom command\n",
      "  [8/151] Generating pandas/_libs/sparse_op_helper_pxi with a custom command\n",
      "  [9/151] Generating pandas/__init__.py with a custom command\n",
      "  [10/151] Compiling Cython source C:/Users/Zein/AppData/Local/Temp/pip-install-u_q1zrmz/pandas_9afd972f0202424cb68c78349a32d138/pandas/_libs/tslibs/base.pyx\n",
      "  [11/151] Compiling C object pandas/_libs/tslibs/base.cp313-win_amd64.pyd.p/meson-generated_pandas__libs_tslibs_base.pyx.c.obj\n",
      "  \u001b[31mFAILED: \u001b[0mpandas/_libs/tslibs/base.cp313-win_amd64.pyd.p/meson-generated_pandas__libs_tslibs_base.pyx.c.obj\n",
      "  \"cl\" \"-Ipandas\\_libs\\tslibs\\base.cp313-win_amd64.pyd.p\" \"-Ipandas\\_libs\\tslibs\" \"-I..\\..\\pandas\\_libs\\tslibs\" \"-I..\\..\\..\\..\\pip-build-env-uk27u9nm\\overlay\\Lib\\site-packages\\numpy\\core\\include\" \"-I..\\..\\pandas\\_libs\\include\" \"-IC:\\Program Files\\Python313\\Include\" \"-DNDEBUG\" \"/MD\" \"/nologo\" \"/showIncludes\" \"/utf-8\" \"-w\" \"/O2\" \"/Gw\" \"-DNPY_NO_DEPRECATED_API=0\" \"-DNPY_TARGET_VERSION=NPY_1_21_API_VERSION\" \"/Fdpandas\\_libs\\tslibs\\base.cp313-win_amd64.pyd.p\\meson-generated_pandas__libs_tslibs_base.pyx.c.pdb\" /Fopandas/_libs/tslibs/base.cp313-win_amd64.pyd.p/meson-generated_pandas__libs_tslibs_base.pyx.c.obj \"/c\" pandas/_libs/tslibs/base.cp313-win_amd64.pyd.p/pandas/_libs/tslibs/base.pyx.c\n",
      "  pandas/_libs/tslibs/base.cp313-win_amd64.pyd.p/pandas/_libs/tslibs/base.pyx.c(5397): error C2198: '_PyLong_AsByteArray': too few arguments for call\n",
      "  pandas/_libs/tslibs/base.cp313-win_amd64.pyd.p/pandas/_libs/tslibs/base.pyx.c(5631): error C2198: '_PyLong_AsByteArray': too few arguments for call\n",
      "  [12/151] Compiling Cython source C:/Users/Zein/AppData/Local/Temp/pip-install-u_q1zrmz/pandas_9afd972f0202424cb68c78349a32d138/pandas/_libs/tslibs/ccalendar.pyx\n",
      "  [13/151] Compiling Cython source C:/Users/Zein/AppData/Local/Temp/pip-install-u_q1zrmz/pandas_9afd972f0202424cb68c78349a32d138/pandas/_libs/tslibs/dtypes.pyx\n",
      "  [14/151] Compiling Cython source C:/Users/Zein/AppData/Local/Temp/pip-install-u_q1zrmz/pandas_9afd972f0202424cb68c78349a32d138/pandas/_libs/tslibs/nattype.pyx\n",
      "  [15/151] Compiling Cython source C:/Users/Zein/AppData/Local/Temp/pip-install-u_q1zrmz/pandas_9afd972f0202424cb68c78349a32d138/pandas/_libs/tslibs/fields.pyx\n",
      "  [16/151] Compiling Cython source C:/Users/Zein/AppData/Local/Temp/pip-install-u_q1zrmz/pandas_9afd972f0202424cb68c78349a32d138/pandas/_libs/tslibs/conversion.pyx\n",
      "  ninja: build stopped: subcommand failed.\n",
      "  Activating VS 17.10.5\n",
      "  INFO: automatically activated MSVC compiler environment\n",
      "  INFO: autodetecting backend as ninja\n",
      "  INFO: calculating backend command to run: C:\\Users\\Zein\\AppData\\Local\\Temp\\pip-build-env-uk27u9nm\\normal\\Scripts\\ninja.EXE\n",
      "  [end of output]\n",
      "  \n",
      "  note: This error originates from a subprocess, and is likely not a problem with pip.\n",
      "error: metadata-generation-failed\n",
      "\n",
      "Encountered error while generating package metadata.\n",
      "\n",
      "See above for output.\n",
      "\n",
      "note: This is an issue with the package mentioned above, not pip.\n",
      "hint: See above for details.\n"
     ]
    }
   ],
   "source": [
    "pip install pycaret"
   ]
  },
  {
   "cell_type": "code",
   "execution_count": null,
   "id": "ee1a4a5a-f63a-4398-a7cf-48fdc4cd6126",
   "metadata": {},
   "outputs": [],
   "source": [
    "pip install pycaret --use-deprecated=legacy-resolver"
   ]
  },
  {
   "cell_type": "code",
   "execution_count": null,
   "id": "f8b23010-b198-48ce-a448-8c66baf16eb3",
   "metadata": {},
   "outputs": [],
   "source": [
    "pip install pandas==1.5.3"
   ]
  }
 ],
 "metadata": {
  "kernelspec": {
   "display_name": "Python 3 (ipykernel)",
   "language": "python",
   "name": "python3"
  },
  "language_info": {
   "codemirror_mode": {
    "name": "ipython",
    "version": 3
   },
   "file_extension": ".py",
   "mimetype": "text/x-python",
   "name": "python",
   "nbconvert_exporter": "python",
   "pygments_lexer": "ipython3",
   "version": "3.13.0"
  }
 },
 "nbformat": 4,
 "nbformat_minor": 5
}
